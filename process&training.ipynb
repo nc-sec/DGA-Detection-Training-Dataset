{
 "cells": [
  {
   "cell_type": "code",
   "execution_count": null,
   "metadata": {},
   "outputs": [],
   "source": [
    "# What 3rd party models can be loaded into elasticsearch ML for inference?\n",
    "# https://www.elastic.co/guide/en/machine-learning/current/ml-inference.html\n",
    "# https://www.elastic.co/guide/en/machine-learning/current/appendix-third-party-models.html\n",
    "# https://www.elastic.co/guide/en/machine-learning/current/appendix-third-party-models.html#appendix-third-party-models"
   ]
  },
  {
   "cell_type": "code",
   "execution_count": 39,
   "metadata": {},
   "outputs": [],
   "source": [
    "#%pip install xgboost eland elasticsearch elasticsearch_serverless pandas gzip tensorflow tqdm\n"
   ]
  },
  {
   "cell_type": "code",
   "execution_count": 8,
   "metadata": {},
   "outputs": [],
   "source": [
    "import pandas as pd\n",
    "import gzip\n",
    "import json\n",
    "\n",
    "# Load gzipped JSON data\n",
    "with open('.\\dga-training-data-encoded.json\\dga-training-data-fixed.json', 'rt', encoding='utf-8') as f:\n",
    "    sourcedata = [json.loads(line) for line in f]\n",
    "\n",
    "# Convert to DataFrame\n",
    "df = pd.DataFrame(sourcedata)\n",
    "df.head()"
   ]
  },
  {
   "cell_type": "code",
   "execution_count": 31,
   "metadata": {},
   "outputs": [
    {
     "data": {
      "text/plain": [
       "(array([[ 0,  0,  0,  0,  0,  0,  0,  0,  0,  0,  0,  0,  0,  0, 15, 45,\n",
       "         45, 15, 30, 43],\n",
       "        [ 0,  0,  0,  0,  0,  0,  0,  0,  0,  0,  0,  0,  0, 43,  6, 14,\n",
       "         32, 17, 30, 43],\n",
       "        [ 0,  0,  0,  0,  0,  0,  0,  0,  0,  0, 57, 14, 18,  3, 45, 32,\n",
       "         22, 31, 58, 53],\n",
       "        [ 0,  0,  0,  0,  0,  0,  0,  0,  0,  0,  0,  0, 14, 40, 51,  3,\n",
       "         22, 31, 58, 53],\n",
       "        [ 0,  0,  0,  0,  0,  0,  0,  0,  0,  0,  0, 32, 14, 30, 35, 51,\n",
       "         35, 45, 25, 56],\n",
       "        [ 0,  0,  0,  0,  0,  0,  0,  0,  3, 14, 18, 15, 43, 57, 45, 25,\n",
       "         56, 22, 31, 58]]),\n",
       " [0, 0, 0, 0, 0, 0])"
      ]
     },
     "execution_count": 31,
     "metadata": {},
     "output_type": "execute_result"
    }
   ],
   "source": [
    "import random\n",
    "import string\n",
    "import numpy as np\n",
    "from sklearn.model_selection import train_test_split\n",
    "from tensorflow.keras.preprocessing.sequence import pad_sequences\n",
    "\n",
    "# Sample data in the specified format\n",
    "data = [\n",
    "    {\"domain\": \"google\", \"threat\": \"benign\"},\n",
    "    {\"domain\": \"example\", \"threat\": \"benign\"},\n",
    "    {\"domain\": \"random1234\", \"threat\": \"malicious\"},\n",
    "    {\"domain\": \"abcd1234\", \"threat\": \"benign\"},\n",
    "    {\"domain\": \"malicious\", \"threat\": \"malicious\"},\n",
    "    {\"domain\": \"dangerous123\", \"threat\": \"malicious\"}\n",
    "]\n",
    "\n",
    "# All possible characters in a domain name\n",
    "characters = list(string.ascii_letters + string.digits)\n",
    "random.shuffle(characters)\n",
    "\n",
    "# Creating a lookup table\n",
    "lookup_table = {char: idx + 1 for idx, char in enumerate(characters)}\n",
    "\n",
    "# Function to convert domain names into encoded format\n",
    "def encode_domain(domain):\n",
    "    return [lookup_table.get(char, 0) for char in domain]\n",
    "\n",
    "# Process test data into features and labels\n",
    "domains = [item['domain'] for item in data]\n",
    "threats = [1 if item['threat'] == 'dga' else 0 for item in data]  # 1 for malicious, 0 for benign\n",
    "\n",
    "# Encoding test domains\n",
    "encoded_domains = pad_sequences([encode_domain(domain) for domain in domains], maxlen=20)\n",
    "\n",
    "encoded_domains, threats\n"
   ]
  },
  {
   "cell_type": "code",
   "execution_count": 1,
   "metadata": {},
   "outputs": [
    {
     "ename": "NameError",
     "evalue": "name 'lookup_table' is not defined",
     "output_type": "error",
     "traceback": [
      "\u001b[1;31m---------------------------------------------------------------------------\u001b[0m",
      "\u001b[1;31mNameError\u001b[0m                                 Traceback (most recent call last)",
      "Cell \u001b[1;32mIn[1], line 1\u001b[0m\n\u001b[1;32m----> 1\u001b[0m \u001b[43mlookup_table\u001b[49m\n",
      "\u001b[1;31mNameError\u001b[0m: name 'lookup_table' is not defined"
     ]
    }
   ],
   "source": [
    "lookup_table"
   ]
  },
  {
   "cell_type": "code",
   "execution_count": 32,
   "metadata": {},
   "outputs": [
    {
     "name": "stderr",
     "output_type": "stream",
     "text": [
      "Encoding Domains: 100%|██████████| 16246006/16246006 [00:42<00:00, 378685.52it/s] \n"
     ]
    }
   ],
   "source": [
    "from tqdm import tqdm\n",
    "# Process test data into features and labels\n",
    "domains = [item['domain'] for item in sourcedata]\n",
    "threats = [1 if item['threat'] == 'dga' else 0 for item in sourcedata]  # 1 for malicious, 0 for benign\n",
    "\n",
    "# Encoding test domains\n",
    "encoded_domains = pad_sequences([encode_domain(domain) for domain in tqdm(domains, desc='Encoding Domains')], maxlen=40)\n",
    "\n",
    "# Splitting data\n",
    "X_train, X_test, y_train, y_test = train_test_split(encoded_domains, threats, test_size=0.3, random_state=42)\n"
   ]
  },
  {
   "cell_type": "code",
   "execution_count": 64,
   "metadata": {},
   "outputs": [
    {
     "name": "stdout",
     "output_type": "stream",
     "text": [
      "Fitting 3 folds for each of 243 candidates, totalling 729 fits\n",
      "Best parameters found:  {'colsample_bytree': 1.0, 'learning_rate': 0.2, 'max_depth': 5, 'n_estimators': 200, 'subsample': 0.8}\n",
      "Best accuracy found:  0.9365585597266213\n",
      "Accuracy on test set: 93.70%\n"
     ]
    }
   ],
   "source": [
    "from xgboost import XGBClassifier\n",
    "from sklearn.metrics import accuracy_score\n",
    "from sklearn.model_selection import GridSearchCV\n",
    "\n",
    "\n",
    "# Initialize the model - CPU only\n",
    "model = XGBClassifier()\n",
    "\n",
    "param_grid = {\n",
    "    'max_depth': [3, 4, 5],\n",
    "    'n_estimators': [50, 100, 200],\n",
    "    'learning_rate': [0.01, 0.1, 0.2],\n",
    "    'subsample': [0.6, 0.8, 1.0],\n",
    "    'colsample_bytree': [0.6, 0.8, 1.0]\n",
    "}\n",
    "\n",
    "# Fit the model\n",
    "grid_search = GridSearchCV(model, param_grid, cv=3, scoring='accuracy', verbose=2, n_jobs=8)\n",
    "\n",
    "grid_search.fit(X_train, y_train)\n",
    "\n",
    "\n",
    "# Best parameters and best score\n",
    "print(\"Best parameters found: \", grid_search.best_params_)\n",
    "print(\"Best accuracy found: \", grid_search.best_score_)\n",
    "\n",
    "# Evaluate on the test set\n",
    "best_model = grid_search.best_estimator_\n",
    "predictions = best_model.predict(X_test)\n",
    "accuracy = accuracy_score(y_test, predictions)\n",
    "print(\"Accuracy on test set: {:.2f}%\".format(accuracy * 100))"
   ]
  },
  {
   "cell_type": "code",
   "execution_count": null,
   "metadata": {},
   "outputs": [],
   "source": [
    "GPU Section\n",
    "\n",
    "from xgboost import XGBClassifier\n",
    "from sklearn.metrics import accuracy_score\n",
    "from sklearn.model_selection import GridSearchCV\n",
    "\n",
    "\n",
    "# Initialize the model - w/ GPU Support\n",
    "model = XGBClassifier(tree_method='device')\n",
    "\n",
    "param_grid = {\n",
    "    'max_depth': [3, 4, 5],\n",
    "    'n_estimators': [50, 100, 200],\n",
    "    'learning_rate': [0.01, 0.1, 0.2],\n",
    "    'subsample': [0.6, 0.8, 1.0],\n",
    "    'colsample_bytree': [0.6, 0.8, 1.0]\n",
    "}\n",
    "\n",
    "# Fit the model\n",
    "grid_search = GridSearchCV(model, param_grid, cv=3, scoring='accuracy', verbose=2, n_jobs=1)\n",
    "\n",
    "grid_search.fit(X_train, y_train)\n",
    "\n",
    "\n",
    "# Best parameters and best score\n",
    "print(\"Best parameters found: \", grid_search.best_params_)\n",
    "print(\"Best accuracy found: \", grid_search.best_score_)\n",
    "\n",
    "# Evaluate on the test set\n",
    "best_model = grid_search.best_estimator_\n",
    "predictions = best_model.predict(X_test)\n",
    "accuracy = accuracy_score(y_test, predictions)\n",
    "print(\"Accuracy on test set: {:.2f}%\".format(accuracy * 100))"
   ]
  },
  {
   "cell_type": "markdown",
   "metadata": {},
   "source": [
    "# Test model locally"
   ]
  },
  {
   "cell_type": "code",
   "execution_count": null,
   "metadata": {},
   "outputs": [],
   "source": [
    "import random\n",
    "\n",
    "# Grab 20 random samples from sourcedata\n",
    "samples = random.sample(sourcedata, 20)\n",
    "\n",
    "# Encode the domains\n",
    "encoded_samples = pad_sequences([encode_domain(sample['domain']) for sample in samples], maxlen=40)\n",
    "\n",
    "# Run the encoded samples against the model\n",
    "predictions2 = best_model.predict(encoded_samples)\n",
    "\n",
    "# Print the predictions interactively\n",
    "for i, sample in enumerate(samples):\n",
    "    print(\"Sample\", i+1)\n",
    "    print(\"Domain:\", sample['domain'])\n",
    "    print(\"Threat:\", sample['threat'])\n",
    "    print(\"Prediction:\", ['dga' if predictions2[i] == 1 else 'benign'])\n",
    "    print()\n"
   ]
  },
  {
   "cell_type": "markdown",
   "metadata": {},
   "source": [
    "# Load model into elasticsearch and use for inference ther"
   ]
  },
  {
   "cell_type": "code",
   "execution_count": 69,
   "metadata": {},
   "outputs": [
    {
     "name": "stdout",
     "output_type": "stream",
     "text": [
      "{'name': 'serverless', 'cluster_name': 'ca9a9d90a7e44baab2629c85cc6ba7ea', 'cluster_uuid': 'uoMZYkwSR9auvQUhIRxtXQ', 'version': {'number': '8.11.0', 'build_flavor': 'serverless', 'build_type': 'docker', 'build_hash': '00000000', 'build_date': '2023-10-31', 'build_snapshot': False, 'lucene_version': '9.7.0', 'minimum_wire_compatibility_version': '8.11.0', 'minimum_index_compatibility_version': '8.11.0'}, 'tagline': 'You Know, for Search'}\n"
     ]
    }
   ],
   "source": [
    "from eland.ml import MLModel\n",
    "from elasticsearch import Elasticsearch\n",
    "\n",
    "url = \"\" \n",
    "api_key = \"\"\n",
    "es = Elasticsearch(\n",
    "    url,\n",
    "    api_key=\"\",  # API key for your project\n",
    ")\n",
    "print(es.info())\n"
   ]
  },
  {
   "cell_type": "code",
   "execution_count": 72,
   "metadata": {},
   "outputs": [],
   "source": [
    "feature_names = [\"f0\", \"f1\", \"f2\", \"f3\", \"f4\", \"f5\", \"f6\", \"f7\", \"f8\", \"f9\", \"f10\", \"f11\", \"f12\", \"f13\", \"f14\", \"f15\", \"f16\", \"f17\", \"f18\", \"f19\", \"f20\", \"f21\", \"f22\", \"f23\", \"f24\", \"f25\", \"f26\", \"f27\", \"f28\", \"f29\", \"f30\", \"f31\", \"f32\", \"f33\", \"f34\", \"f35\", \"f36\", \"f37\", \"f38\", \"f39\"]\n",
    "model_id = \"dga_xgboost_classifier_v1\"\n",
    "es_model = MLModel.import_model(\n",
    "  es,\n",
    "  model_id=model_id,\n",
    "  model=best_model,\n",
    "  feature_names=feature_names,\n",
    "  es_if_exists='replace'\n",
    ")\n"
   ]
  },
  {
   "cell_type": "code",
   "execution_count": 74,
   "metadata": {},
   "outputs": [
    {
     "name": "stdout",
     "output_type": "stream",
     "text": [
      "Sample 1\n",
      "Domain: a67l527ly2c4o27\n",
      "Threat: dga\n",
      "Prediction: ['dga']\n",
      "\n",
      "Sample 2\n",
      "Domain: vendercomprardolares\n",
      "Threat: benign\n",
      "Prediction: ['benign']\n",
      "\n",
      "Sample 3\n",
      "Domain: bhyqyjrnxawn\n",
      "Threat: dga\n",
      "Prediction: ['dga']\n",
      "\n",
      "Sample 4\n",
      "Domain: gripqlul3del1lcjutm\n",
      "Threat: dga\n",
      "Prediction: ['dga']\n",
      "\n",
      "Sample 5\n",
      "Domain: wisconsinyes\n",
      "Threat: benign\n",
      "Prediction: ['benign']\n",
      "\n",
      "Sample 6\n",
      "Domain: yvxxik\n",
      "Threat: dga\n",
      "Prediction: ['dga']\n",
      "\n",
      "Sample 7\n",
      "Domain: khdqgecohmrnukfqr\n",
      "Threat: dga\n",
      "Prediction: ['dga']\n",
      "\n",
      "Sample 8\n",
      "Domain: e61fax5v1n7b12u8cr1pen1\n",
      "Threat: dga\n",
      "Prediction: ['dga']\n",
      "\n",
      "Sample 9\n",
      "Domain: celtmyth\n",
      "Threat: benign\n",
      "Prediction: ['dga']\n",
      "\n",
      "Sample 10\n",
      "Domain: mlfjeniwsffqogvtusmd\n",
      "Threat: dga\n",
      "Prediction: ['dga']\n",
      "\n",
      "Sample 11\n",
      "Domain: ezwsvxrqsylzjpow\n",
      "Threat: dga\n",
      "Prediction: ['dga']\n",
      "\n",
      "Sample 12\n",
      "Domain: wsguigqiuamgiueyimocwoye\n",
      "Threat: dga\n",
      "Prediction: ['dga']\n",
      "\n",
      "Sample 13\n",
      "Domain: 3xc0uvkp1lsrw0g0gh5vk6a\n",
      "Threat: dga\n",
      "Prediction: ['dga']\n",
      "\n",
      "Sample 14\n",
      "Domain: tiwshjx\n",
      "Threat: dga\n",
      "Prediction: ['dga']\n",
      "\n",
      "Sample 15\n",
      "Domain: xuwwvhfcxlqwnot\n",
      "Threat: dga\n",
      "Prediction: ['dga']\n",
      "\n",
      "Sample 16\n",
      "Domain: fhctiego\n",
      "Threat: dga\n",
      "Prediction: ['dga']\n",
      "\n",
      "Sample 17\n",
      "Domain: champagnesupernova\n",
      "Threat: benign\n",
      "Prediction: ['benign']\n",
      "\n",
      "Sample 18\n",
      "Domain: e652u6k6ela4ipkn7t5\n",
      "Threat: dga\n",
      "Prediction: ['dga']\n",
      "\n",
      "Sample 19\n",
      "Domain: rpbpakos\n",
      "Threat: dga\n",
      "Prediction: ['benign']\n",
      "\n",
      "Sample 20\n",
      "Domain: rotateurls\n",
      "Threat: benign\n",
      "Prediction: ['benign']\n",
      "\n"
     ]
    }
   ],
   "source": [
    "# run samples up against elasticsearch\n",
    "\n",
    "import random\n",
    "\n",
    "# Grab 20 random samples from sourcedata\n",
    "samples = random.sample(sourcedata, 20)\n",
    "\n",
    "# Encode the domains\n",
    "encoded_samples = pad_sequences([encode_domain(sample['domain']) for sample in samples], maxlen=40)\n",
    "\n",
    "# Run the encoded samples against the model\n",
    "predictions3 = es_model.predict(encoded_samples)\n",
    "\n",
    "# Print the predictions interactively\n",
    "for i, sample in enumerate(samples):\n",
    "    print(\"Sample\", i+1)\n",
    "    print(\"Domain:\", sample['domain'])\n",
    "    print(\"Threat:\", sample['threat'])\n",
    "    print(\"Prediction:\", ['dga' if predictions3[i] == 1 else 'benign'])\n",
    "    print()\n"
   ]
  },
  {
   "cell_type": "code",
   "execution_count": null,
   "metadata": {},
   "outputs": [],
   "source": []
  }
 ],
 "metadata": {
  "kernelspec": {
   "display_name": ".venv",
   "language": "python",
   "name": "python3"
  },
  "language_info": {
   "codemirror_mode": {
    "name": "ipython",
    "version": 3
   },
   "file_extension": ".py",
   "mimetype": "text/x-python",
   "name": "python",
   "nbconvert_exporter": "python",
   "pygments_lexer": "ipython3",
   "version": "3.10.10"
  }
 },
 "nbformat": 4,
 "nbformat_minor": 2
}
